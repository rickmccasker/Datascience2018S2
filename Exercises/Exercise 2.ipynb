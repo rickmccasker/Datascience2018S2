{
 "cells": [
  {
   "cell_type": "code",
   "execution_count": 1,
   "metadata": {},
   "outputs": [
    {
     "name": "stdout",
     "output_type": "stream",
     "text": [
      "<class 'pandas.core.frame.DataFrame'>\n",
      "Int64Index: 24197 entries, 0 to 24196\n",
      "Data columns (total 22 columns):\n",
      "Suburb                24197 non-null object\n",
      "Address               24197 non-null object\n",
      "Rooms                 24197 non-null int64\n",
      "Type                  24197 non-null object\n",
      "Price                 24197 non-null float64\n",
      "Method                24197 non-null object\n",
      "SellerG               24197 non-null object\n",
      "Date                  24197 non-null object\n",
      "Distance              24196 non-null float64\n",
      "Postcode              24196 non-null float64\n",
      "Bedroom2              18673 non-null float64\n",
      "Bathroom              18669 non-null float64\n",
      "Car                   18394 non-null float64\n",
      "Landsize              15946 non-null float64\n",
      "BuildingArea          9609 non-null float64\n",
      "YearBuilt             10961 non-null float64\n",
      "CouncilArea           24194 non-null object\n",
      "Lattitude             18843 non-null float64\n",
      "Longtitude            18843 non-null float64\n",
      "Regionname            24194 non-null object\n",
      "Propertycount         24194 non-null float64\n",
      "Price_above_median    24197 non-null int64\n",
      "dtypes: float64(12), int64(2), object(8)\n",
      "memory usage: 4.2+ MB\n"
     ]
    }
   ],
   "source": [
    "import pandas as pd\n",
    "import matplotlib.pyplot as plt\n",
    "import seaborn as sns\n",
    "%matplotlib inline\n",
    "df = pd.read_csv('datasets/melbourne_house_price.csv', index_col = 0)\n",
    "df.info()"
   ]
  },
  {
   "cell_type": "markdown",
   "metadata": {},
   "source": [
    "## Exploring data\n",
    "#### a) Describe key statistics of 'Rooms'. What is the median and mean value of this column\n",
    "The mean of rooms is:  2.979873538041906 <br />\n",
    "The median of rooms is:  3.0\n",
    "#### b) Bin 'Distance' into 10 bins. How many houses in each bin?\n",
    "(9.62, 14.43]---7857 <br />\n",
    "(4.81, 9.62]----7683 <br />\n",
    "(-0.0491, 4.81]-3476 <br />\n",
    "(14.43, 19.24]--2817 <br />\n",
    "(19.24, 24.05]--1209 <br />\n",
    "(24.05, 28.86]--541 <br />\n",
    "(28.86, 33.67]--271 <br />\n",
    "(33.67, 38.48]--265 <br />\n",
    "(43.29, 48.1]---59 <br />\n",
    "(38.48, 43.29]--18 <br />\n",
    "#### c) How many unique vals are in the 'Method' col. What is the number of occurences of these unique values?\n",
    "S:     15684<br />\n",
    "SP:     3171<br />\n",
    "PI:     2854<br />\n",
    "VB:     2320<br />\n",
    "SA:      168<br />\n",
    "#### d) Assume 'Price_above_median' is a binary var of whether a house is priced above the median (875,000) and type is a categorical val representing type of property (house, unit, townhouse). What is the correlation between propety type and price above median?\n",
    "h-1:                     10293<br />\n",
    "h-0:                      6010<br />\n",
    "t-0:                      1373<br />\n",
    "t-      1:                      1172<br />\n",
    "u-     0:                      4732<br />\n",
    "u-      1:                       617<br />"
   ]
  },
  {
   "cell_type": "code",
   "execution_count": 2,
   "metadata": {},
   "outputs": [
    {
     "name": "stdout",
     "output_type": "stream",
     "text": [
      "The mean of rooms is:  2.979873538041906\n",
      "The median of rooms is:  3.0\n"
     ]
    }
   ],
   "source": [
    "print(\"The mean of rooms is: \", df['Rooms'].mean())\n",
    "print(\"The median of rooms is: \", df['Rooms'].median())"
   ]
  },
  {
   "cell_type": "code",
   "execution_count": 3,
   "metadata": {},
   "outputs": [
    {
     "data": {
      "text/plain": [
       "(9.62, 14.43]      7857\n",
       "(4.81, 9.62]       7683\n",
       "(-0.0491, 4.81]    3476\n",
       "(14.43, 19.24]     2817\n",
       "(19.24, 24.05]     1209\n",
       "(24.05, 28.86]      541\n",
       "(28.86, 33.67]      271\n",
       "(33.67, 38.48]      265\n",
       "(43.29, 48.1]        59\n",
       "(38.48, 43.29]       18\n",
       "Name: Distance, dtype: int64"
      ]
     },
     "execution_count": 3,
     "metadata": {},
     "output_type": "execute_result"
    },
    {
     "data": {
      "image/png": "[encoded data removed]",
      "text/plain": [
       "<Figure size 432x288 with 1 Axes>"
      ]
     },
     "metadata": {},
     "output_type": "display_data"
    }
   ],
   "source": [
    "sns.distplot(df['Distance'].dropna(), bins=10)\n",
    "df['Distance'].value_counts(bins=10)"
   ]
  },
  {
   "cell_type": "code",
   "execution_count": 4,
   "metadata": {},
   "outputs": [
    {
     "data": {
      "text/plain": [
       "S     15684\n",
       "SP     3171\n",
       "PI     2854\n",
       "VB     2320\n",
       "SA      168\n",
       "Name: Method, dtype: int64"
      ]
     },
     "execution_count": 4,
     "metadata": {},
     "output_type": "execute_result"
    }
   ],
   "source": [
    "df['Method'].value_counts()"
   ]
  },
  {
   "cell_type": "code",
   "execution_count": 5,
   "metadata": {},
   "outputs": [
    {
     "data": {
      "text/plain": [
       "Type  Price_above_median\n",
       "h     1                     10293\n",
       "      0                      6010\n",
       "t     0                      1373\n",
       "      1                      1172\n",
       "u     0                      4732\n",
       "      1                       617\n",
       "Name: Price_above_median, dtype: int64"
      ]
     },
     "execution_count": 5,
     "metadata": {},
     "output_type": "execute_result"
    }
   ],
   "source": [
    "df.groupby(['Type'])['Price_above_median'].value_counts()"
   ]
  },
  {
   "cell_type": "markdown",
   "metadata": {},
   "source": [
    "## Plotting\n",
    "#### a) Create a dist plot for 'Distance'\n",
    "#### b) Create a dist plot for 'Type'\n",
    "#### c) Create a dist plot for 'Rooms'"
   ]
  },
  {
   "cell_type": "code",
   "execution_count": 6,
   "metadata": {},
   "outputs": [
    {
     "data": {
      "text/plain": [
       "<matplotlib.axes._subplots.AxesSubplot at 0x264fc4eb9b0>"
      ]
     },
     "execution_count": 6,
     "metadata": {},
     "output_type": "execute_result"
    },
    {
     "data": {
      "image/png": "[encoded data removed]",
      "text/plain": [
       "<Figure size 432x288 with 1 Axes>"
      ]
     },
     "metadata": {},
     "output_type": "display_data"
    }
   ],
   "source": [
    "sns.distplot(df['Distance'].dropna())"
   ]
  },
  {
   "cell_type": "code",
   "execution_count": 7,
   "metadata": {},
   "outputs": [
    {
     "data": {
      "text/plain": [
       "<matplotlib.axes._subplots.AxesSubplot at 0x264fc5cb7f0>"
      ]
     },
     "execution_count": 7,
     "metadata": {},
     "output_type": "execute_result"
    },
    {
     "data": {
      "image/png": "[encoded data removed]",
      "text/plain": [
       "<Figure size 432x288 with 1 Axes>"
      ]
     },
     "metadata": {},
     "output_type": "display_data"
    }
   ],
   "source": [
    "tertiaryMap = {'u': 0, 't':1, 'h':2}\n",
    "dfType = df['Type'].map(tertiaryMap)\n",
    "sns.distplot(dfType)"
   ]
  },
  {
   "cell_type": "code",
   "execution_count": 8,
   "metadata": {},
   "outputs": [
    {
     "data": {
      "text/plain": [
       "<matplotlib.axes._subplots.AxesSubplot at 0x264fc64b4e0>"
      ]
     },
     "execution_count": 8,
     "metadata": {},
     "output_type": "execute_result"
    },
    {
     "data": {
      "image/png": "[encoded data removed]",
      "text/plain": [
       "<Figure size 432x288 with 1 Axes>"
      ]
     },
     "metadata": {},
     "output_type": "display_data"
    }
   ],
   "source": [
    "sns.countplot(data=df, x='Type')"
   ]
  },
  {
   "cell_type": "code",
   "execution_count": 9,
   "metadata": {},
   "outputs": [
    {
     "data": {
      "text/plain": [
       "<matplotlib.axes._subplots.AxesSubplot at 0x264fc6cd4a8>"
      ]
     },
     "execution_count": 9,
     "metadata": {},
     "output_type": "execute_result"
    },
    {
     "data": {
      "image/png": "[encoded data removed]",
      "text/plain": [
       "<Figure size 432x288 with 1 Axes>"
      ]
     },
     "metadata": {},
     "output_type": "display_data"
    }
   ],
   "source": [
    "sns.boxplot(x='Type', y='Rooms', data=df)"
   ]
  },
  {
   "cell_type": "markdown",
   "metadata": {},
   "source": [
    "## Correcting Errors in data\n",
    "#### a) What problems exist in the dataset?\n",
    "Index column can be removed using index_col = 0 when importing <br />\n",
    "Missing values in Distance, Postcode, Bedroom2, Bathroom, Car, Landsize, BuildingArea, CouncilArea, Latitude, Longitude, RegionName & Property counts. <br />\n",
    ">Distance, Postcode, CouncilArea, RegionName & PropertyCount have relatively few rows with missing vals so dropping is the best option. <br />\n",
    "-<br />\n",
    ">Bedroom, Bathroom & Car contain values that can be reasonably predicted using mean. Could use median but since training will likely consider them intervals rather than categorical should be fine. <br />\n",
    "-<br />\n",
    ">Long and Lat could could be imputed however using a mean for these might skew data unfairly. Better to flag these values. <br />\n",
    "-<br />\n",
    ">Landsize, buildingarea and yearbuilt are missing roughly > 1/2 total length and therefore can't be imputed or dropped without damaging data. Flagging prolly wouldn't even be worth it. Drop the cols. <br />\n",
    "\n",
    "#### b) Is the address column useful? Why?\n",
    "If the address was a smaller set, eg a number of neighbourhoods were surveyed could clip the street number however its split over too many streets so just drop it.\n",
    "#### c) Impute missing values in the 'Car' variable. What method to use and why?\n",
    "Use mean as above since its an interval.\n",
    "#### d) What is one hot encoding? Perform it on 'Type' and 'Method'.\n",
    "One hot encoding is the conversion of categorical values into binary vars.\n",
    "#### e) What columns are not needed\n",
    "Refer to above. Also could get rid of Address. Price should be removed as its binary result is the target rather than predicting on an interval.\n",
    "#### f) What data prep can be performed on Date and SellerG\n",
    "Date is too raw and Seller G is categorical. Could split date into multiple columns and set day, month and year to each one or set it as a single line, that ofc could cause issues in the future or past depending on the input data. SellerG is categorical however has the potential to be continuous by expanding in the future. Easiest to drop this as a seller may only have 1 house, flooding the dataset with worthless values."
   ]
  },
  {
   "cell_type": "code",
   "execution_count": 10,
   "metadata": {},
   "outputs": [
    {
     "name": "stdout",
     "output_type": "stream",
     "text": [
      "<class 'pandas.core.frame.DataFrame'>\n",
      "Int64Index: 24197 entries, 0 to 24196\n",
      "Data columns (total 22 columns):\n",
      "Suburb                24197 non-null object\n",
      "Address               24197 non-null object\n",
      "Rooms                 24197 non-null int64\n",
      "Type                  24197 non-null object\n",
      "Price                 24197 non-null float64\n",
      "Method                24197 non-null object\n",
      "SellerG               24197 non-null object\n",
      "Date                  24197 non-null object\n",
      "Distance              24196 non-null float64\n",
      "Postcode              24196 non-null float64\n",
      "Bedroom2              18673 non-null float64\n",
      "Bathroom              18669 non-null float64\n",
      "Car                   18394 non-null float64\n",
      "Landsize              15946 non-null float64\n",
      "BuildingArea          9609 non-null float64\n",
      "YearBuilt             10961 non-null float64\n",
      "CouncilArea           24194 non-null object\n",
      "Lattitude             18843 non-null float64\n",
      "Longtitude            18843 non-null float64\n",
      "Regionname            24194 non-null object\n",
      "Propertycount         24194 non-null float64\n",
      "Price_above_median    24197 non-null int64\n",
      "dtypes: float64(12), int64(2), object(8)\n",
      "memory usage: 4.9+ MB\n"
     ]
    },
    {
     "data": {
      "text/html": [
       "<div>\n",
       "<style scoped>\n",
       "    .dataframe tbody tr th:only-of-type {\n",
       "        vertical-align: middle;\n",
       "    }\n",
       "\n",
       "    .dataframe tbody tr th {\n",
       "        vertical-align: top;\n",
       "    }\n",
       "\n",
       "    .dataframe thead th {\n",
       "        text-align: right;\n",
       "    }\n",
       "</style>\n",
       "<table border=\"1\" class=\"dataframe\">\n",
       "  <thead>\n",
       "    <tr style=\"text-align: right;\">\n",
       "      <th></th>\n",
       "      <th>Rooms</th>\n",
       "      <th>Price</th>\n",
       "      <th>Distance</th>\n",
       "      <th>Postcode</th>\n",
       "      <th>Bedroom2</th>\n",
       "      <th>Bathroom</th>\n",
       "      <th>Car</th>\n",
       "      <th>Landsize</th>\n",
       "      <th>BuildingArea</th>\n",
       "      <th>YearBuilt</th>\n",
       "      <th>Lattitude</th>\n",
       "      <th>Longtitude</th>\n",
       "      <th>Propertycount</th>\n",
       "      <th>Price_above_median</th>\n",
       "    </tr>\n",
       "  </thead>\n",
       "  <tbody>\n",
       "    <tr>\n",
       "      <th>count</th>\n",
       "      <td>24197.000000</td>\n",
       "      <td>2.419700e+04</td>\n",
       "      <td>24196.000000</td>\n",
       "      <td>24196.000000</td>\n",
       "      <td>18673.000000</td>\n",
       "      <td>18669.000000</td>\n",
       "      <td>18394.000000</td>\n",
       "      <td>15946.000000</td>\n",
       "      <td>9609.000000</td>\n",
       "      <td>10961.000000</td>\n",
       "      <td>18843.000000</td>\n",
       "      <td>18843.000000</td>\n",
       "      <td>24194.000000</td>\n",
       "      <td>24197.000000</td>\n",
       "    </tr>\n",
       "    <tr>\n",
       "      <th>mean</th>\n",
       "      <td>2.979874</td>\n",
       "      <td>1.052590e+06</td>\n",
       "      <td>11.069598</td>\n",
       "      <td>3112.252604</td>\n",
       "      <td>3.009158</td>\n",
       "      <td>1.576678</td>\n",
       "      <td>1.688214</td>\n",
       "      <td>591.972595</td>\n",
       "      <td>154.967878</td>\n",
       "      <td>1966.413375</td>\n",
       "      <td>-37.808117</td>\n",
       "      <td>144.996710</td>\n",
       "      <td>7553.879474</td>\n",
       "      <td>0.499318</td>\n",
       "    </tr>\n",
       "    <tr>\n",
       "      <th>std</th>\n",
       "      <td>0.960262</td>\n",
       "      <td>6.444995e+05</td>\n",
       "      <td>6.644708</td>\n",
       "      <td>107.620219</td>\n",
       "      <td>0.966819</td>\n",
       "      <td>0.701306</td>\n",
       "      <td>0.988789</td>\n",
       "      <td>3961.770145</td>\n",
       "      <td>468.338870</td>\n",
       "      <td>36.781273</td>\n",
       "      <td>0.089079</td>\n",
       "      <td>0.117219</td>\n",
       "      <td>4496.632709</td>\n",
       "      <td>0.500010</td>\n",
       "    </tr>\n",
       "    <tr>\n",
       "      <th>min</th>\n",
       "      <td>1.000000</td>\n",
       "      <td>8.500000e+04</td>\n",
       "      <td>0.000000</td>\n",
       "      <td>3000.000000</td>\n",
       "      <td>0.000000</td>\n",
       "      <td>0.000000</td>\n",
       "      <td>0.000000</td>\n",
       "      <td>0.000000</td>\n",
       "      <td>0.000000</td>\n",
       "      <td>1196.000000</td>\n",
       "      <td>-38.185600</td>\n",
       "      <td>144.423790</td>\n",
       "      <td>83.000000</td>\n",
       "      <td>0.000000</td>\n",
       "    </tr>\n",
       "    <tr>\n",
       "      <th>25%</th>\n",
       "      <td>2.000000</td>\n",
       "      <td>6.350000e+05</td>\n",
       "      <td>6.400000</td>\n",
       "      <td>3046.000000</td>\n",
       "      <td>2.000000</td>\n",
       "      <td>1.000000</td>\n",
       "      <td>1.000000</td>\n",
       "      <td>202.000000</td>\n",
       "      <td>98.000000</td>\n",
       "      <td>1950.000000</td>\n",
       "      <td>-37.860100</td>\n",
       "      <td>144.926710</td>\n",
       "      <td>4294.000000</td>\n",
       "      <td>0.000000</td>\n",
       "    </tr>\n",
       "    <tr>\n",
       "      <th>50%</th>\n",
       "      <td>3.000000</td>\n",
       "      <td>8.750000e+05</td>\n",
       "      <td>10.300000</td>\n",
       "      <td>3088.000000</td>\n",
       "      <td>3.000000</td>\n",
       "      <td>1.000000</td>\n",
       "      <td>2.000000</td>\n",
       "      <td>489.000000</td>\n",
       "      <td>130.000000</td>\n",
       "      <td>1970.000000</td>\n",
       "      <td>-37.801200</td>\n",
       "      <td>145.002600</td>\n",
       "      <td>6567.000000</td>\n",
       "      <td>0.000000</td>\n",
       "    </tr>\n",
       "    <tr>\n",
       "      <th>75%</th>\n",
       "      <td>4.000000</td>\n",
       "      <td>1.300000e+06</td>\n",
       "      <td>13.900000</td>\n",
       "      <td>3152.000000</td>\n",
       "      <td>4.000000</td>\n",
       "      <td>2.000000</td>\n",
       "      <td>2.000000</td>\n",
       "      <td>661.000000</td>\n",
       "      <td>180.000000</td>\n",
       "      <td>2000.000000</td>\n",
       "      <td>-37.750905</td>\n",
       "      <td>145.066600</td>\n",
       "      <td>10331.000000</td>\n",
       "      <td>1.000000</td>\n",
       "    </tr>\n",
       "    <tr>\n",
       "      <th>max</th>\n",
       "      <td>16.000000</td>\n",
       "      <td>1.120000e+07</td>\n",
       "      <td>48.100000</td>\n",
       "      <td>3978.000000</td>\n",
       "      <td>20.000000</td>\n",
       "      <td>9.000000</td>\n",
       "      <td>18.000000</td>\n",
       "      <td>433014.000000</td>\n",
       "      <td>44515.000000</td>\n",
       "      <td>2018.000000</td>\n",
       "      <td>-37.397800</td>\n",
       "      <td>145.526350</td>\n",
       "      <td>21650.000000</td>\n",
       "      <td>1.000000</td>\n",
       "    </tr>\n",
       "  </tbody>\n",
       "</table>\n",
       "</div>"
      ],
      "text/plain": [
       "              Rooms         Price      Distance      Postcode      Bedroom2  \\\n",
       "count  24197.000000  2.419700e+04  24196.000000  24196.000000  18673.000000   \n",
       "mean       2.979874  1.052590e+06     11.069598   3112.252604      3.009158   \n",
       "std        0.960262  6.444995e+05      6.644708    107.620219      0.966819   \n",
       "min        1.000000  8.500000e+04      0.000000   3000.000000      0.000000   \n",
       "25%        2.000000  6.350000e+05      6.400000   3046.000000      2.000000   \n",
       "50%        3.000000  8.750000e+05     10.300000   3088.000000      3.000000   \n",
       "75%        4.000000  1.300000e+06     13.900000   3152.000000      4.000000   \n",
       "max       16.000000  1.120000e+07     48.100000   3978.000000     20.000000   \n",
       "\n",
       "           Bathroom           Car       Landsize  BuildingArea     YearBuilt  \\\n",
       "count  18669.000000  18394.000000   15946.000000   9609.000000  10961.000000   \n",
       "mean       1.576678      1.688214     591.972595    154.967878   1966.413375   \n",
       "std        0.701306      0.988789    3961.770145    468.338870     36.781273   \n",
       "min        0.000000      0.000000       0.000000      0.000000   1196.000000   \n",
       "25%        1.000000      1.000000     202.000000     98.000000   1950.000000   \n",
       "50%        1.000000      2.000000     489.000000    130.000000   1970.000000   \n",
       "75%        2.000000      2.000000     661.000000    180.000000   2000.000000   \n",
       "max        9.000000     18.000000  433014.000000  44515.000000   2018.000000   \n",
       "\n",
       "          Lattitude    Longtitude  Propertycount  Price_above_median  \n",
       "count  18843.000000  18843.000000   24194.000000        24197.000000  \n",
       "mean     -37.808117    144.996710    7553.879474            0.499318  \n",
       "std        0.089079      0.117219    4496.632709            0.500010  \n",
       "min      -38.185600    144.423790      83.000000            0.000000  \n",
       "25%      -37.860100    144.926710    4294.000000            0.000000  \n",
       "50%      -37.801200    145.002600    6567.000000            0.000000  \n",
       "75%      -37.750905    145.066600   10331.000000            1.000000  \n",
       "max      -37.397800    145.526350   21650.000000            1.000000  "
      ]
     },
     "execution_count": 10,
     "metadata": {},
     "output_type": "execute_result"
    }
   ],
   "source": [
    "df.info()\n",
    "df.describe()"
   ]
  },
  {
   "cell_type": "code",
   "execution_count": 11,
   "metadata": {},
   "outputs": [],
   "source": [
    "df['Car'].fillna(df['Car'].mean(), inplace=True)"
   ]
  },
  {
   "cell_type": "code",
   "execution_count": 12,
   "metadata": {},
   "outputs": [
    {
     "name": "stdout",
     "output_type": "stream",
     "text": [
      "h    16303\n",
      "u     5349\n",
      "t     2545\n",
      "Name: Type, dtype: int64\n"
     ]
    },
    {
     "data": {
      "text/plain": [
       "S     15684\n",
       "SP     3171\n",
       "PI     2854\n",
       "VB     2320\n",
       "SA      168\n",
       "Name: Method, dtype: int64"
      ]
     },
     "execution_count": 12,
     "metadata": {},
     "output_type": "execute_result"
    }
   ],
   "source": [
    "print(df['Type'].value_counts())\n",
    "df['Method'].value_counts()"
   ]
  },
  {
   "cell_type": "code",
   "execution_count": 13,
   "metadata": {},
   "outputs": [
    {
     "name": "stdout",
     "output_type": "stream",
     "text": [
      "<class 'pandas.core.frame.DataFrame'>\n",
      "Int64Index: 24197 entries, 0 to 24196\n",
      "Data columns (total 22 columns):\n",
      "Suburb                24197 non-null object\n",
      "Address               24197 non-null object\n",
      "Rooms                 24197 non-null int64\n",
      "Type                  24197 non-null uint8\n",
      "Price                 24197 non-null float64\n",
      "Method                24197 non-null uint8\n",
      "SellerG               24197 non-null object\n",
      "Date                  24197 non-null object\n",
      "Distance              24196 non-null float64\n",
      "Postcode              24196 non-null float64\n",
      "Bedroom2              18673 non-null float64\n",
      "Bathroom              18669 non-null float64\n",
      "Car                   24197 non-null float64\n",
      "Landsize              15946 non-null float64\n",
      "BuildingArea          9609 non-null float64\n",
      "YearBuilt             10961 non-null float64\n",
      "CouncilArea           24194 non-null object\n",
      "Lattitude             18843 non-null float64\n",
      "Longtitude            18843 non-null float64\n",
      "Regionname            24194 non-null object\n",
      "Propertycount         24194 non-null float64\n",
      "Price_above_median    24197 non-null int64\n",
      "dtypes: float64(12), int64(2), object(6), uint8(2)\n",
      "memory usage: 4.5+ MB\n"
     ]
    }
   ],
   "source": [
    "df['Method'] = pd.get_dummies(df['Method'])\n",
    "df['Type'] = pd.get_dummies(df['Type'])\n",
    "df.info()"
   ]
  },
  {
   "cell_type": "code",
   "execution_count": 14,
   "metadata": {},
   "outputs": [],
   "source": [
    "df = df.drop(['Address', 'Landsize', 'BuildingArea', 'YearBuilt', 'Price'], axis=1)"
   ]
  },
  {
   "cell_type": "code",
   "execution_count": 16,
   "metadata": {},
   "outputs": [
    {
     "data": {
      "text/plain": [
       "0               Biggin\n",
       "1               Biggin\n",
       "2               Biggin\n",
       "3               Biggin\n",
       "4               Nelson\n",
       "5               Jellis\n",
       "6               Nelson\n",
       "7               Nelson\n",
       "8               Jellis\n",
       "9               Jellis\n",
       "10              Biggin\n",
       "11              Biggin\n",
       "12              Dingle\n",
       "13              Biggin\n",
       "14        Purplebricks\n",
       "15              Jellis\n",
       "16              Nelson\n",
       "17              Biggin\n",
       "18              Biggin\n",
       "19              Biggin\n",
       "20              Biggin\n",
       "21                Greg\n",
       "22              Jellis\n",
       "23              Jellis\n",
       "24              Jellis\n",
       "25              LITTLE\n",
       "26             Collins\n",
       "27              Biggin\n",
       "28                 Kay\n",
       "29              Beller\n",
       "             ...      \n",
       "24167          Burnham\n",
       "24168    hockingstuart\n",
       "24169              Jas\n",
       "24170          Sweeney\n",
       "24171              YPA\n",
       "24172    hockingstuart\n",
       "24173            Barry\n",
       "24174            Mason\n",
       "24175              HAR\n",
       "24176         Williams\n",
       "24177          Sweeney\n",
       "24178          Sweeney\n",
       "24179             Greg\n",
       "24180         Williams\n",
       "24181           Buxton\n",
       "24182           Beller\n",
       "24183              HAR\n",
       "24184           Iconek\n",
       "24185           Iconek\n",
       "24186              Ray\n",
       "24187           Iconek\n",
       "24188              HAR\n",
       "24189              YPA\n",
       "24190              YPA\n",
       "24191    hockingstuart\n",
       "24192    hockingstuart\n",
       "24193               LJ\n",
       "24194    hockingstuart\n",
       "24195              Jas\n",
       "24196          Sweeney\n",
       "Name: SellerG, Length: 24197, dtype: object"
      ]
     },
     "execution_count": 16,
     "metadata": {},
     "output_type": "execute_result"
    }
   ],
   "source": [
    "df['SellerG']"
   ]
  },
  {
   "cell_type": "code",
   "execution_count": null,
   "metadata": {},
   "outputs": [],
   "source": []
  }
 ],
 "metadata": {
  "kernelspec": {
   "display_name": "Python 3",
   "language": "python",
   "name": "python3"
  },
  "language_info": {
   "codemirror_mode": {
    "name": "ipython",
    "version": 3
   },
   "file_extension": ".py",
   "mimetype": "text/x-python",
   "name": "python",
   "nbconvert_exporter": "python",
   "pygments_lexer": "ipython3",
   "version": "3.6.5"
  }
 },
 "nbformat": 4,
 "nbformat_minor": 2
}
