{
 "cells": [
  {
   "cell_type": "markdown",
   "metadata": {},
   "source": [
    "## Exercise 1"
   ]
  },
  {
   "cell_type": "markdown",
   "metadata": {},
   "source": [
    "### 1. Importing libraries and reading datasets\n",
    "#### a) Three libs for data visualization\n",
    "Matplotlib, Seaborn, pandas\n",
    "Seaborn is built off matplotlib and pandas is a multi purpose tool   for data science.\n",
    "#### b) Library used for predictive modelling?\n",
    "Sklearn\n",
    "#### c) Steps commonly used in performing predictive mining\n",
    "Data extraction -> Wrangling and exploration -> Cleaning & Preprocessing -> Training (Training data -> test data -> Model improvement) -> Present via visualization or other means\n",
    "#### d) Import pandas\n",
    "#### e) Load dataset melbourne_house_price"
   ]
  },
  {
   "cell_type": "code",
   "execution_count": 3,
   "metadata": {},
   "outputs": [],
   "source": [
    "import pandas as pd\n",
    "df = pd.read_csv('datasets/melbourne_house_price.csv', index_col=0)"
   ]
  },
  {
   "cell_type": "markdown",
   "metadata": {},
   "source": [
    "## Data wrangling\n",
    "#### a) Print basic information\n",
    "#### b) Columns in the dataframe?\n",
    "22\n",
    "#### c) Datatype of 'Distance' column?\n",
    "float64\n",
    "#### d) Which column is a suitable target variable if trying to predict price of house is very high (above median)?\n",
    "Price above median, or use the price and take the median, creating a filtered dataset based on those who obey criteria\n",
    "#### e) How could stakeholders use insights gained from data mining?\n",
    "Could model it using a scatter plot or bar graph to observe which properties are worth more and what attributes associated to each makes it worth more."
   ]
  },
  {
   "cell_type": "code",
   "execution_count": 4,
   "metadata": {},
   "outputs": [
    {
     "name": "stdout",
     "output_type": "stream",
     "text": [
      "<class 'pandas.core.frame.DataFrame'>\n",
      "Int64Index: 24197 entries, 0 to 24196\n",
      "Data columns (total 22 columns):\n",
      "Suburb                24197 non-null object\n",
      "Address               24197 non-null object\n",
      "Rooms                 24197 non-null int64\n",
      "Type                  24197 non-null object\n",
      "Price                 24197 non-null float64\n",
      "Method                24197 non-null object\n",
      "SellerG               24197 non-null object\n",
      "Date                  24197 non-null object\n",
      "Distance              24196 non-null float64\n",
      "Postcode              24196 non-null float64\n",
      "Bedroom2              18673 non-null float64\n",
      "Bathroom              18669 non-null float64\n",
      "Car                   18394 non-null float64\n",
      "Landsize              15946 non-null float64\n",
      "BuildingArea          9609 non-null float64\n",
      "YearBuilt             10961 non-null float64\n",
      "CouncilArea           24194 non-null object\n",
      "Lattitude             18843 non-null float64\n",
      "Longtitude            18843 non-null float64\n",
      "Regionname            24194 non-null object\n",
      "Propertycount         24194 non-null float64\n",
      "Price_above_median    24197 non-null int64\n",
      "dtypes: float64(12), int64(2), object(8)\n",
      "memory usage: 4.2+ MB\n"
     ]
    }
   ],
   "source": [
    "df.info()"
   ]
  },
  {
   "cell_type": "code",
   "execution_count": null,
   "metadata": {},
   "outputs": [],
   "source": []
  }
 ],
 "metadata": {
  "kernelspec": {
   "display_name": "Python 3",
   "language": "python",
   "name": "python3"
  },
  "language_info": {
   "codemirror_mode": {
    "name": "ipython",
    "version": 3
   },
   "file_extension": ".py",
   "mimetype": "text/x-python",
   "name": "python",
   "nbconvert_exporter": "python",
   "pygments_lexer": "ipython3",
   "version": "3.6.5"
  }
 },
 "nbformat": 4,
 "nbformat_minor": 2
}
