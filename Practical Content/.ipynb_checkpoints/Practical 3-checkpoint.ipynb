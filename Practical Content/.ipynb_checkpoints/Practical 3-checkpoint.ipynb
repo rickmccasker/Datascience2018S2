{
 "cells": [
  {
   "cell_type": "code",
   "execution_count": 1,
   "metadata": {},
   "outputs": [],
   "source": [
    "import pandas as pd\n",
    "import numpy as np\n",
    "from dm_tools import data_prep"
   ]
  },
  {
   "cell_type": "code",
   "execution_count": 2,
   "metadata": {},
   "outputs": [],
   "source": [
    "from sklearn.model_selection import train_test_split"
   ]
  },
  {
   "cell_type": "code",
   "execution_count": 3,
   "metadata": {},
   "outputs": [],
   "source": [
    "df = data_prep()\n",
    "\n",
    "y=df['TargetB']\n",
    "X = df.drop(['TargetB'], axis=1)"
   ]
  },
  {
   "cell_type": "code",
   "execution_count": 4,
   "metadata": {},
   "outputs": [],
   "source": [
    "rs= 10\n",
    "X_mat=X.values\n",
    "Xtr, Xtest, ytr, ytest = train_test_split(X_mat, y, test_size=0.3, stratify=y, random_state=rs)"
   ]
  },
  {
   "cell_type": "code",
   "execution_count": 5,
   "metadata": {},
   "outputs": [
    {
     "data": {
      "text/plain": [
       "DecisionTreeClassifier(class_weight=None, criterion='gini', max_depth=None,\n",
       "            max_features=None, max_leaf_nodes=None,\n",
       "            min_impurity_decrease=0.0, min_impurity_split=None,\n",
       "            min_samples_leaf=1, min_samples_split=2,\n",
       "            min_weight_fraction_leaf=0.0, presort=False, random_state=10,\n",
       "            splitter='best')"
      ]
     },
     "execution_count": 5,
     "metadata": {},
     "output_type": "execute_result"
    }
   ],
   "source": [
    "from sklearn.tree import DecisionTreeClassifier\n",
    "from sklearn.metrics import classification_report, accuracy_score\n",
    "\n",
    "model = DecisionTreeClassifier(random_state=rs)\n",
    "model.fit(Xtr, ytr)"
   ]
  },
  {
   "cell_type": "code",
   "execution_count": 6,
   "metadata": {},
   "outputs": [
    {
     "data": {
      "text/plain": [
       "1.0"
      ]
     },
     "execution_count": 6,
     "metadata": {},
     "output_type": "execute_result"
    }
   ],
   "source": [
    "model.score(Xtr, ytr)"
   ]
  },
  {
   "cell_type": "code",
   "execution_count": 7,
   "metadata": {},
   "outputs": [
    {
     "name": "stdout",
     "output_type": "stream",
     "text": [
      "             precision    recall  f1-score   support\n",
      "\n",
      "          0       1.00      1.00      1.00      3390\n",
      "          1       1.00      1.00      1.00      3390\n",
      "\n",
      "avg / total       1.00      1.00      1.00      6780\n",
      "\n"
     ]
    }
   ],
   "source": [
    "y_pred = model.predict(Xtr)\n",
    "print(classification_report(ytr, y_pred))"
   ]
  },
  {
   "cell_type": "code",
   "execution_count": 8,
   "metadata": {},
   "outputs": [
    {
     "name": "stdout",
     "output_type": "stream",
     "text": [
      "DemMedHomeValue : 0.10371353665921498\n",
      "DemMedIncome : 0.07677600801105956\n",
      "GiftAvgAll : 0.06980988595894197\n",
      "DemPctVeterans : 0.06613214928597241\n",
      "DemAge : 0.060750495114459305\n",
      "GiftTimeFirst : 0.04594492638340621\n",
      "GiftAvgLast : 0.039119529776787676\n",
      "GiftAvgCard36 : 0.0380219076090902\n",
      "GiftTimeLast : 0.03754481714205862\n",
      "PromCntAll : 0.03536307758528952\n",
      "PromCnt36 : 0.0344873233968644\n",
      "GiftAvg36 : 0.03333456207629517\n",
      "PromCntCardAll : 0.031160032819215713\n",
      "GiftCntCardAll : 0.029090632497530206\n",
      "GiftCnt36 : 0.02902465415187723\n",
      "GiftCntAll : 0.02844273638690637\n",
      "PromCntCard36 : 0.02602984397479075\n",
      "PromCnt12 : 0.02179582564122642\n",
      "GiftCntCard36 : 0.014245411759881576\n",
      "PromCntCard12 : 0.009727393864117933\n"
     ]
    }
   ],
   "source": [
    "importances = model.feature_importances_\n",
    "feature_names = X.columns\n",
    "\n",
    "indices = np.argsort(importances) #gets indices of items in ascending\n",
    "indices = np.flip(indices, axis=0) #flip for descending\n",
    "indices = indices[:20]\n",
    "for i in indices:\n",
    "    print(feature_names[i], ':', importances[i])"
   ]
  },
  {
   "cell_type": "code",
   "execution_count": 9,
   "metadata": {},
   "outputs": [],
   "source": [
    "import pydot\n",
    "from io import StringIO\n",
    "from sklearn.tree import export_graphviz\n",
    "\n",
    "dotfile = StringIO()\n",
    "export_graphviz(model, out_file=dotfile, feature_names=X.columns)\n",
    "graph = pydot.graph_from_dot_data(dotfile.getvalue())\n",
    "graph[0].write_png('week 3 dt viz.png')"
   ]
  },
  {
   "cell_type": "code",
   "execution_count": 10,
   "metadata": {},
   "outputs": [
    {
     "name": "stdout",
     "output_type": "stream",
     "text": [
      "Train Accuracy: 0.5941002949852507\n",
      "Test Accuracy: 0.5750172057811425\n",
      "             precision    recall  f1-score   support\n",
      "\n",
      "          0       0.57      0.63      0.60      1453\n",
      "          1       0.58      0.52      0.55      1453\n",
      "\n",
      "avg / total       0.58      0.58      0.57      2906\n",
      "\n",
      "{'criterion': 'gini', 'max_depth': 5, 'min_samples_leaf': 50}\n"
     ]
    }
   ],
   "source": [
    "from sklearn.model_selection import GridSearchCV\n",
    "params = {'criterion': ['gini', 'entropy'],\n",
    "         'max_depth': range(2, 7),\n",
    "         'min_samples_leaf': range(20,60,10)}\n",
    "cv = GridSearchCV(param_grid=params, estimator=DecisionTreeClassifier(), cv=10)\n",
    "cv.fit(Xtr, ytr)\n",
    "\n",
    "print('Train Accuracy:', cv.score(Xtr, ytr))\n",
    "print('Test Accuracy:', cv.score(Xtest, ytest))\n",
    "\n",
    "y_pred = cv.predict(Xtest)\n",
    "print(classification_report(ytest, y_pred))\n",
    "print(cv.best_params_)"
   ]
  },
  {
   "cell_type": "code",
   "execution_count": 11,
   "metadata": {},
   "outputs": [],
   "source": [
    "from dm_tools import analyse_feature_importance, visualize_decision_tree"
   ]
  },
  {
   "cell_type": "code",
   "execution_count": 12,
   "metadata": {},
   "outputs": [
    {
     "name": "stdout",
     "output_type": "stream",
     "text": [
      "GiftCnt36 : 0.32372028991803176\n",
      "DemMedHomeValue : 0.16870399488848986\n",
      "GiftAvgLast : 0.13715027943543454\n",
      "GiftTimeLast : 0.07216895789175108\n",
      "StatusCatStarAll : 0.04624807594062364\n",
      "GiftCntAll : 0.04526431066083868\n",
      "GiftCntCardAll : 0.04444007634482767\n",
      "PromCntCardAll : 0.038352830083886735\n",
      "DemPctVeterans : 0.029606101805632952\n",
      "PromCnt36 : 0.018147095366402428\n",
      "GiftAvgAll : 0.017372969310631516\n",
      "StatusCat96NK_A : 0.016862957062736873\n",
      "GiftTimeFirst : 0.014129096904096769\n",
      "GiftAvgCard36 : 0.013209693354314394\n",
      "PromCntCard12 : 0.00872994822258077\n",
      "PromCnt12 : 0.005893322809720318\n",
      "DemCluster_13 : 0.0\n",
      "DemCluster_10 : 0.0\n",
      "DemCluster_11 : 0.0\n",
      "DemCluster_12 : 0.0\n"
     ]
    }
   ],
   "source": [
    "analyse_feature_importance(cv.best_estimator_, X.columns, 20)\n",
    "visualize_decision_tree(cv.best_estimator_, X.columns, \"optimal_tree.png\")"
   ]
  },
  {
   "cell_type": "code",
   "execution_count": null,
   "metadata": {},
   "outputs": [],
   "source": []
  }
 ],
 "metadata": {
  "kernelspec": {
   "display_name": "Python 3",
   "language": "python",
   "name": "python3"
  },
  "language_info": {
   "codemirror_mode": {
    "name": "ipython",
    "version": 3
   },
   "file_extension": ".py",
   "mimetype": "text/x-python",
   "name": "python",
   "nbconvert_exporter": "python",
   "pygments_lexer": "ipython3",
   "version": "3.6.5"
  }
 },
 "nbformat": 4,
 "nbformat_minor": 2
}
