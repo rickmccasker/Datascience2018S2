{
 "cells": [
  {
   "cell_type": "code",
   "execution_count": 1,
   "metadata": {},
   "outputs": [],
   "source": [
    "import pandas as pd\n",
    "import numpy as np\n",
    "from sklearn.model_selection import train_test_split\n",
    "from sklearn.metrics import classification_report, accuracy_score\n",
    "from sklearn.model_selection import GridSearchCV\n",
    "from dm_tools import data_prep\n",
    "\n",
    "df = data_prep()\n",
    "rs = 10\n",
    "y=df['TargetB']\n",
    "x = df.drop(['TargetB'], axis=1)\n",
    "x_mat = x.values\n",
    "xtr, xtst, ytr, ytst = train_test_split(x_mat, y, test_size=0.3, stratify=y, random_state=rs)"
   ]
  },
  {
   "cell_type": "code",
   "execution_count": 2,
   "metadata": {},
   "outputs": [
    {
     "name": "stdout",
     "output_type": "stream",
     "text": [
      "Before scaling\n",
      "-------------\n",
      "Variable #0: min 0.0, max 13.0, mean 3.20 and std dev 2.13\n",
      "Variable #1: min 1.0, max 89.0, mean 10.50 and std dev 8.95\n",
      "Variable #2: min 0.0, max 9.0, mean 1.86 and std dev 1.59\n",
      "Variable #3: min 0.0, max 41.0, mean 5.58 and std dev 4.73\n",
      "Variable #4: min 0.0, max 450.0, mean 15.97 and std dev 12.07\n",
      "After scaling\n",
      "-------------\n",
      "Variable #0: min -1.505311488472091, max 4.600729037733905, mean -0.00 and std dev 1.00\n",
      "Variable #1: min -1.0623391496250907, max 8.7746107562059, mean -0.00 and std dev 1.00\n",
      "Variable #2: min -1.1659811623481273, max 4.487429288703341, mean -0.00 and std dev 1.00\n",
      "Variable #3: min -1.1795617205202689, max 7.485041166941727, mean -0.00 and std dev 1.00\n",
      "Variable #4: min -1.3225650969557856, max 35.95505089608766, mean 0.00 and std dev 1.00\n"
     ]
    }
   ],
   "source": [
    "from sklearn.preprocessing import StandardScaler\n",
    "scaler = StandardScaler()\n",
    "\n",
    "print(\"Before scaling\\n-------------\")\n",
    "for i in range(5):\n",
    "    col = xtr[:,i]\n",
    "    print(\"Variable #{}: min {}, max {}, mean {:.2f} and std dev {:.2f}\".format(i, min(col), max(col), np.mean(col), np.std(col)))\n",
    "\n",
    "xtr = scaler.fit_transform(xtr, ytr)\n",
    "print(\"After scaling\\n-------------\")\n",
    "for i in range(5):\n",
    "    col = xtr[:,i]\n",
    "    print(\"Variable #{}: min {}, max {}, mean {:.2f} and std dev {:.2f}\".format(i, min(col), max(col), np.mean(col), np.std(col)))"
   ]
  },
  {
   "cell_type": "code",
   "execution_count": 3,
   "metadata": {},
   "outputs": [
    {
     "name": "stdout",
     "output_type": "stream",
     "text": [
      "Train accuracy: 0.5935103244837758\n",
      "Test accuracy: 0.5006882312456985\n",
      "             precision    recall  f1-score   support\n",
      "\n",
      "          0       0.54      0.01      0.02      1453\n",
      "          1       0.50      0.99      0.67      1453\n",
      "\n",
      "avg / total       0.52      0.50      0.34      2906\n",
      "\n"
     ]
    }
   ],
   "source": [
    "from sklearn.linear_model import LogisticRegression\n",
    "model = LogisticRegression(random_state=rs)\n",
    "model.fit(xtr, ytr)\n",
    "print(\"Train accuracy:\", model.score(xtr, ytr))\n",
    "print(\"Test accuracy:\", model.score(xtst, ytst))\n",
    "y_pred = model.predict(xtst)\n",
    "print(classification_report(ytst, y_pred))"
   ]
  },
  {
   "cell_type": "code",
   "execution_count": 4,
   "metadata": {},
   "outputs": [
    {
     "name": "stdout",
     "output_type": "stream",
     "text": [
      "PromCntCardAll : -0.43851255885666734\n",
      "GiftTimeFirst : 0.2804476485131589\n",
      "PromCntAll : 0.19782012719097772\n",
      "GiftTimeLast : -0.16833272253227194\n",
      "PromCnt12 : -0.1398648362290369\n",
      "DemMedHomeValue : 0.12585620935682737\n",
      "StatusCatStarAll : 0.11004787143409926\n",
      "GiftCntCard36 : 0.09602623607589704\n",
      "PromCntCard36 : 0.09494982420780446\n",
      "GiftCnt36 : 0.08552948189048604\n",
      "GiftCntCardAll : -0.0768268037209868\n",
      "GiftAvgAll : 0.07375646123932444\n",
      "GiftAvgCard36 : -0.05930713749983856\n",
      "GiftCntAll : 0.05729057652765238\n",
      "DemAge : 0.055101140408408245\n",
      "PromCnt36 : 0.050613998292421865\n",
      "GiftAvgLast : -0.0503317638336539\n",
      "PromCntCard12 : 0.047784191449562745\n",
      "GiftAvg36 : -0.03994299820131242\n",
      "DemHomeOwner : 0.027000444463941384\n"
     ]
    }
   ],
   "source": [
    "feature_names = x.columns\n",
    "coef = model.coef_[0]\n",
    "coef = coef[:20]\n",
    "indices = np.argsort(np.absolute(coef))\n",
    "indices = np.flip(indices, axis=0)\n",
    "for i in indices[:20]:\n",
    "    print(feature_names[i], ':', coef[i])"
   ]
  },
  {
   "cell_type": "code",
   "execution_count": 5,
   "metadata": {},
   "outputs": [
    {
     "name": "stdout",
     "output_type": "stream",
     "text": [
      "Train accuracy: 0.5951327433628318\n",
      "Test accuracy: 0.5\n",
      "             precision    recall  f1-score   support\n",
      "\n",
      "          0       0.00      0.00      0.00      1453\n",
      "          1       0.50      1.00      0.67      1453\n",
      "\n",
      "avg / total       0.25      0.50      0.33      2906\n",
      "\n",
      "{'C': 0.001}\n"
     ]
    },
    {
     "name": "stderr",
     "output_type": "stream",
     "text": [
      "C:\\Users\\rickm\\Anaconda3\\lib\\site-packages\\sklearn\\metrics\\classification.py:1135: UndefinedMetricWarning: Precision and F-score are ill-defined and being set to 0.0 in labels with no predicted samples.\n",
      "  'precision', 'predicted', average, warn_for)\n"
     ]
    }
   ],
   "source": [
    "params = {'C': [pow(10,x) for x in range(-6,4)]}\n",
    "cv=GridSearchCV(param_grid=params, estimator=LogisticRegression(random_state=rs),cv=10,n_jobs=-1)\n",
    "cv.fit(xtr, ytr)\n",
    "\n",
    "print(\"Train accuracy:\", cv.score(xtr, ytr))\n",
    "print(\"Test accuracy:\", cv.score(xtst, ytst))\n",
    "y_pred = cv.predict(xtst)\n",
    "print(classification_report(ytst, y_pred))\n",
    "print(cv.best_params_)\n"
   ]
  },
  {
   "cell_type": "code",
   "execution_count": 6,
   "metadata": {},
   "outputs": [],
   "source": [
    "# Input transformation and dim reduction\n",
    "import seaborn as sns\n",
    "import matplotlib.pyplot as plt\n",
    "%matplotlib inline"
   ]
  },
  {
   "cell_type": "code",
   "execution_count": 7,
   "metadata": {},
   "outputs": [],
   "source": [
    "def plot_skewed_columns(df):\n",
    "    f, axes = plt.subplots(2, 4, figsize=(10,10), sharex=False)\n",
    "    \n",
    "    sns.distplot(df['GiftAvg36'].dropna(), hist=False, ax=axes[0,1])\n",
    "    sns.distplot(df['GiftAvgAll'].dropna(), hist=False, ax=axes[0,1])\n",
    "    sns.distplot(df['GiftAvgCard36'].dropna(), hist=False, ax=axes[0,1])\n",
    "    sns.distplot(df['GiftAvgLast'].dropna(), hist=False, ax=axes[0,1])\n",
    "    sns.distplot(df['GiftCnt36'].dropna(), hist=False, ax=axes[0,2])\n",
    "    sns.distplot(df['GiftCntAll'].dropna(), hist=False, ax=axes[0,3])\n",
    "    sns.distplot(df['GiftCntCard36'].dropna(), hist=False, ax=axes[1,2])\n",
    "    sns.distplot(df['GiftCntCardAll'].dropna(), hist=False, ax=axes[1,3])"
   ]
  },
  {
   "cell_type": "code",
   "execution_count": 8,
   "metadata": {},
   "outputs": [
    {
     "ename": "NameError",
     "evalue": "name 'axis' is not defined",
     "output_type": "error",
     "traceback": [
      "\u001b[1;31m---------------------------------------------------------------------------\u001b[0m",
      "\u001b[1;31mNameError\u001b[0m                                 Traceback (most recent call last)",
      "\u001b[1;32m<ipython-input-8-6370306d8fb9>\u001b[0m in \u001b[0;36m<module>\u001b[1;34m()\u001b[0m\n\u001b[1;32m----> 1\u001b[1;33m \u001b[0mplot_skewed_columns\u001b[0m\u001b[1;33m(\u001b[0m\u001b[0mdf\u001b[0m\u001b[1;33m)\u001b[0m\u001b[1;33m\u001b[0m\u001b[0m\n\u001b[0m",
      "\u001b[1;32m<ipython-input-7-b74228081571>\u001b[0m in \u001b[0;36mplot_skewed_columns\u001b[1;34m(df)\u001b[0m\n\u001b[0;32m      2\u001b[0m     \u001b[0mf\u001b[0m\u001b[1;33m,\u001b[0m \u001b[0maxes\u001b[0m \u001b[1;33m=\u001b[0m \u001b[0mplt\u001b[0m\u001b[1;33m.\u001b[0m\u001b[0msubplots\u001b[0m\u001b[1;33m(\u001b[0m\u001b[1;36m2\u001b[0m\u001b[1;33m,\u001b[0m \u001b[1;36m4\u001b[0m\u001b[1;33m,\u001b[0m \u001b[0mfigsize\u001b[0m\u001b[1;33m=\u001b[0m\u001b[1;33m(\u001b[0m\u001b[1;36m10\u001b[0m\u001b[1;33m,\u001b[0m\u001b[1;36m10\u001b[0m\u001b[1;33m)\u001b[0m\u001b[1;33m,\u001b[0m \u001b[0msharex\u001b[0m\u001b[1;33m=\u001b[0m\u001b[1;32mFalse\u001b[0m\u001b[1;33m)\u001b[0m\u001b[1;33m\u001b[0m\u001b[0m\n\u001b[0;32m      3\u001b[0m \u001b[1;33m\u001b[0m\u001b[0m\n\u001b[1;32m----> 4\u001b[1;33m     \u001b[0msns\u001b[0m\u001b[1;33m.\u001b[0m\u001b[0mdistplot\u001b[0m\u001b[1;33m(\u001b[0m\u001b[0mdf\u001b[0m\u001b[1;33m[\u001b[0m\u001b[1;34m'GiftAvg36'\u001b[0m\u001b[1;33m]\u001b[0m\u001b[1;33m.\u001b[0m\u001b[0mdropna\u001b[0m\u001b[1;33m(\u001b[0m\u001b[1;33m)\u001b[0m\u001b[1;33m,\u001b[0m \u001b[0mhist\u001b[0m\u001b[1;33m=\u001b[0m\u001b[1;32mFalse\u001b[0m\u001b[1;33m,\u001b[0m \u001b[0max\u001b[0m\u001b[1;33m=\u001b[0m\u001b[0maxis\u001b[0m\u001b[1;33m[\u001b[0m\u001b[1;36m0\u001b[0m\u001b[1;33m,\u001b[0m\u001b[1;36m1\u001b[0m\u001b[1;33m]\u001b[0m\u001b[1;33m)\u001b[0m\u001b[1;33m\u001b[0m\u001b[0m\n\u001b[0m\u001b[0;32m      5\u001b[0m     \u001b[0msns\u001b[0m\u001b[1;33m.\u001b[0m\u001b[0mdistplot\u001b[0m\u001b[1;33m(\u001b[0m\u001b[0mdf\u001b[0m\u001b[1;33m[\u001b[0m\u001b[1;34m'GiftAvgAll'\u001b[0m\u001b[1;33m]\u001b[0m\u001b[1;33m.\u001b[0m\u001b[0mdropna\u001b[0m\u001b[1;33m(\u001b[0m\u001b[1;33m)\u001b[0m\u001b[1;33m,\u001b[0m \u001b[0mhist\u001b[0m\u001b[1;33m=\u001b[0m\u001b[1;32mFalse\u001b[0m\u001b[1;33m,\u001b[0m \u001b[0max\u001b[0m\u001b[1;33m=\u001b[0m\u001b[0maxis\u001b[0m\u001b[1;33m[\u001b[0m\u001b[1;36m0\u001b[0m\u001b[1;33m,\u001b[0m\u001b[1;36m1\u001b[0m\u001b[1;33m]\u001b[0m\u001b[1;33m)\u001b[0m\u001b[1;33m\u001b[0m\u001b[0m\n\u001b[0;32m      6\u001b[0m     \u001b[0msns\u001b[0m\u001b[1;33m.\u001b[0m\u001b[0mdistplot\u001b[0m\u001b[1;33m(\u001b[0m\u001b[0mdf\u001b[0m\u001b[1;33m[\u001b[0m\u001b[1;34m'GiftAvgCard36'\u001b[0m\u001b[1;33m]\u001b[0m\u001b[1;33m.\u001b[0m\u001b[0mdropna\u001b[0m\u001b[1;33m(\u001b[0m\u001b[1;33m)\u001b[0m\u001b[1;33m,\u001b[0m \u001b[0mhist\u001b[0m\u001b[1;33m=\u001b[0m\u001b[1;32mFalse\u001b[0m\u001b[1;33m,\u001b[0m \u001b[0max\u001b[0m\u001b[1;33m=\u001b[0m\u001b[0maxis\u001b[0m\u001b[1;33m[\u001b[0m\u001b[1;36m0\u001b[0m\u001b[1;33m,\u001b[0m\u001b[1;36m1\u001b[0m\u001b[1;33m]\u001b[0m\u001b[1;33m)\u001b[0m\u001b[1;33m\u001b[0m\u001b[0m\n",
      "\u001b[1;31mNameError\u001b[0m: name 'axis' is not defined"
     ]
    },
    {
     "data": {
      "image/png": "[encoded data removed]",
      "text/plain": [
       "<Figure size 720x720 with 8 Axes>"
      ]
     },
     "metadata": {},
     "output_type": "display_data"
    }
   ],
   "source": [
    "plot_skewed_columns(df)"
   ]
  },
  {
   "cell_type": "code",
   "execution_count": null,
   "metadata": {},
   "outputs": [],
   "source": []
  }
 ],
 "metadata": {
  "kernelspec": {
   "display_name": "Python 3",
   "language": "python",
   "name": "python3"
  },
  "language_info": {
   "codemirror_mode": {
    "name": "ipython",
    "version": 3
   },
   "file_extension": ".py",
   "mimetype": "text/x-python",
   "name": "python",
   "nbconvert_exporter": "python",
   "pygments_lexer": "ipython3",
   "version": "3.6.5"
  }
 },
 "nbformat": 4,
 "nbformat_minor": 2
}
