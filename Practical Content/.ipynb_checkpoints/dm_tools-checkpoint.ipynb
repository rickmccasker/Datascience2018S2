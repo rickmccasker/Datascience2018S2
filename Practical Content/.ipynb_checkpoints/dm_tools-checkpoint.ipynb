{
 "cells": [
  {
   "cell_type": "code",
   "execution_count": null,
   "metadata": {},
   "outputs": [],
   "source": [
    "import numpy as np\n",
    "import pandas as pd\n",
    "\n",
    "def data_prep():\n",
    "    df = pd.read_csv('datasets/veteran.csv')\n",
    "    #Interval to nominal demcluster\n",
    "    df['DemCluster'] = df['DemCluster'].astype(str)\n",
    "    #Binary 0/1 dem home owner\n",
    "    dHO_map = {'U': 0, 'H': 1}\n",
    "    df['DemHomeOwner'] = df['DemHomeOwner'].map(dHO_map)\n",
    "    #Erronous vals in demmedincome\n",
    "    mask = df['DemMedIncome'] > 1\n",
    "    df.loc[mask, 'DemMedIncome'] = np.nan\n",
    "    #impute missing vals in demage with mean\n",
    "    df['DemAge'].fillna(df['DemAge'].mean(), inplace=True)\n",
    "    #impute med income using mean\n",
    "    df['DemMedIncome'].fillna(df['DemMedIncome'].mean(), inplace=True)"
   ]
  }
 ],
 "metadata": {
  "kernelspec": {
   "display_name": "Python 3",
   "language": "python",
   "name": "python3"
  },
  "language_info": {
   "codemirror_mode": {
    "name": "ipython",
    "version": 3
   },
   "file_extension": ".py",
   "mimetype": "text/x-python",
   "name": "python",
   "nbconvert_exporter": "python",
   "pygments_lexer": "ipython3",
   "version": "3.6.5"
  }
 },
 "nbformat": 4,
 "nbformat_minor": 2
}
